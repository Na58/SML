{
 "cells": [
  {
   "cell_type": "markdown",
   "metadata": {},
   "source": [
    "# COMP90051 Project 2"
   ]
  },
  {
   "cell_type": "code",
   "execution_count": 1,
   "metadata": {},
   "outputs": [],
   "source": [
    "# Do not edit. These are the only imports permitted.\n",
    "%matplotlib inline\n",
    "import numpy as np\n",
    "from numpy.linalg import inv\n",
    "import matplotlib.pyplot as plt\n",
    "from abc import ABC, abstractmethod"
   ]
  },
  {
   "cell_type": "markdown",
   "metadata": {},
   "source": [
    "## 1. Implement ε-Greedy and UCB"
   ]
  },
  {
   "cell_type": "code",
   "execution_count": 2,
   "metadata": {},
   "outputs": [],
   "source": [
    "class MAB(ABC):\n",
    "    \"\"\"\n",
    "    Abstract class that represents a multi-armed bandit (MAB)\n",
    "    \"\"\"\n",
    "    \n",
    "    @abstractmethod\n",
    "    def play(self, tround, context):\n",
    "        \"\"\"\n",
    "        Play a round\n",
    "        \n",
    "        Arguments\n",
    "        =========\n",
    "        tround : int\n",
    "            positive integer identifying the round\n",
    "        \n",
    "        context : 1D float array, shape (self.ndims * self.narms), optional\n",
    "            context given to the arms\n",
    "        \n",
    "        Returns\n",
    "        =======\n",
    "        arm : int\n",
    "            the positive integer arm id for this round\n",
    "        \"\"\"\n",
    "    \n",
    "    @abstractmethod\n",
    "    def update(self, arm, reward, context):\n",
    "        \"\"\"\n",
    "        Updates the internal state of the MAB after a play\n",
    "        \n",
    "        Arguments\n",
    "        =========\n",
    "        arm : int\n",
    "            a positive integer arm id in {1, ..., self.narms}\n",
    "        \n",
    "        reward : float\n",
    "            reward received from arm\n",
    "        \n",
    "        context : 1D float array, shape (self.ndims * self.narms), optional\n",
    "            context given to arms\n",
    "        \"\"\""
   ]
  },
  {
   "cell_type": "code",
   "execution_count": 3,
   "metadata": {},
   "outputs": [],
   "source": [
    "class EpsGreedy(MAB):\n",
    "    \"\"\"\n",
    "    Epsilon-Greedy multi-armed bandit\n",
    "\n",
    "    Arguments\n",
    "    =========\n",
    "    narms : int\n",
    "        number of arms\n",
    "\n",
    "    epsilon : float\n",
    "        explore probability\n",
    "\n",
    "    Q0 : float, optional\n",
    "        initial value for the arms\n",
    "    \"\"\"\n",
    "    \n",
    "    def __init__(self, narms, epsilon, Q0=np.inf):\n",
    "        self.narms = narms\n",
    "        #[0,1,...,narms-1]\n",
    "        self.epsilon = epsilon\n",
    "        self.qvalue = np.full(narms, Q0, dtype=float)\n",
    "        self.visited = np.full(narms, 0)\n",
    "        \n",
    "    def play(self, tround, context=None):\n",
    "        random_num = np.random.random()\n",
    "        if random_num < self.epsilon: # or tround == 1:\n",
    "            return np.random.randint(0, self.narms)\n",
    "        else:\n",
    "            expected_qvalue = self.qvalue/self.visited\n",
    "            candidates = np.argwhere(expected_qvalue == np.amax(expected_qvalue)).flatten().tolist()\n",
    "            if len(candidates) == 1:\n",
    "                return candidates[0]\n",
    "            else:\n",
    "                return np.random.choice(candidates)\n",
    "        \n",
    "    def update(self, arm, reward, context=None):\n",
    "        self.visited[arm] += 1\n",
    "        if self.visited[arm] == 1:\n",
    "            self.qvalue[arm] = reward\n",
    "        else:\n",
    "            self.qvalue[arm] += reward\n",
    "        return\n",
    "    "
   ]
  },
  {
   "cell_type": "code",
   "execution_count": 4,
   "metadata": {},
   "outputs": [],
   "source": [
    "class UCB(MAB):\n",
    "    \"\"\"\n",
    "    Upper Confidence Bound (UCB) multi-armed bandit\n",
    "\n",
    "    Arguments\n",
    "    =========\n",
    "    narms : int\n",
    "        number of arms\n",
    "\n",
    "    rho : float\n",
    "        positive real explore-exploit parameter\n",
    "\n",
    "    Q0 : float, optional\n",
    "        initial value for the arms\n",
    "    \"\"\"\n",
    "    \n",
    "    def __init__(self, narms, rho, Q0=np.inf):\n",
    "        self.narms = narms\n",
    "        self.visit_record = np.full(narms, 0)\n",
    "        self.qvalue = np.full(narms, Q0, dtype=float)\n",
    "        self.rho = rho\n",
    "\n",
    "    def play(self, tround, context=None):\n",
    "        expected_qvalue = np.full(self.narms, 0.0)\n",
    "        for i in range(self.narms):\n",
    "            if self.visit_record[i] == 0:\n",
    "                expected_qvalue[i] = np.inf\n",
    "            else:\n",
    "                expected_qvalue[i] = self.qvalue[i] / self.visit_record[i] + np.sqrt(self.rho * np.log(tround) / self.visit_record[i])\n",
    "        candidates = np.argwhere(expected_qvalue == np.amax(expected_qvalue)).flatten().tolist()\n",
    "        if len(candidates) == 1:\n",
    "            return candidates[0]\n",
    "        else:\n",
    "            return np.random.choice(candidates)\n",
    "\n",
    "    def update(self, arm, reward, context=None):\n",
    "        self.visit_record[arm] += 1\n",
    "        if self.visit_record[arm] == 1:\n",
    "            self.qvalue[arm] = reward\n",
    "        else:\n",
    "            self.qvalue[arm] += reward  "
   ]
  },
  {
   "cell_type": "markdown",
   "metadata": {},
   "source": [
    "## 2. Off-Policy Evaluation"
   ]
  },
  {
   "cell_type": "code",
   "execution_count": 5,
   "metadata": {},
   "outputs": [],
   "source": [
    "def offlineEvaluate(mab, arms, rewards, contexts, nrounds=None):\n",
    "    \"\"\"\n",
    "    Offline evaluation of a multi-armed bandit\n",
    "    \n",
    "    Arguments\n",
    "    =========\n",
    "    mab : instance of MAB\n",
    "    \n",
    "    arms : 1D int array, shape (nevents,) \n",
    "        integer arm id for each event\n",
    "    \n",
    "    rewards : 1D float array, shape (nevents,)\n",
    "        reward received for each event\n",
    "    \n",
    "    contexts : 2D float array, shape (nevents, mab.narms*nfeatures)\n",
    "        contexts presented to the arms (stacked horizontally) \n",
    "        for each event.\n",
    "        \n",
    "    nrounds : int, optional\n",
    "        number of matching events to evaluate `mab` on.\n",
    "    \n",
    "    Returns\n",
    "    =======\n",
    "    out : 1D float array\n",
    "        rewards for the matching events\n",
    "    \"\"\"\n",
    "    round_count = 1\n",
    "    results = []\n",
    "    checked_record = 0\n",
    "    for i in range(len(arms)):\n",
    "        checked_record += 1\n",
    "\n",
    "        context = np.split(contexts[i], 10)\n",
    "\n",
    "        arm = arms[i]-1\n",
    "        mab_arm = mab.play(round_count, context)\n",
    "        if mab_arm == int(arm):\n",
    "            results.append(rewards[i])\n",
    "            mab.update(mab_arm, rewards[i], context)\n",
    "            round_count += 1\n",
    "            if nrounds and round_count > nrounds:\n",
    "                break\n",
    "        else:\n",
    "            #results.append(0)\n",
    "            # print('not same arm', mab_arm, int(arm))\n",
    "            continue\n",
    "    print(round_count-1, ' out of total ', checked_record)\n",
    "    # print('offline eval', np.shape(results))\n",
    "    return results"
   ]
  },
  {
   "cell_type": "code",
   "execution_count": 6,
   "metadata": {},
   "outputs": [
    {
     "name": "stdout",
     "output_type": "stream",
     "text": [
      "800  out of total  8213\n",
      "EpsGreedy average reward 0.14125\n"
     ]
    }
   ],
   "source": [
    "dataset = np.loadtxt('dataset.txt', dtype='int')\n",
    "arms = dataset[:, 0]\n",
    "rewards = dataset[:, 1]\n",
    "contexts = dataset[:, 2:]\n",
    "\n",
    "mab = EpsGreedy(10, 0.05)\n",
    "results_EpsGreedy = offlineEvaluate(mab, arms, rewards, contexts, 800)\n",
    "print('EpsGreedy average reward', np.mean(results_EpsGreedy))"
   ]
  },
  {
   "cell_type": "code",
   "execution_count": 7,
   "metadata": {},
   "outputs": [
    {
     "name": "stdout",
     "output_type": "stream",
     "text": [
      "800  out of total  8467\n",
      "UCB average reward 0.17375\n"
     ]
    }
   ],
   "source": [
    "mab = UCB(10, 1.0)\n",
    "results_UCB = offlineEvaluate(mab, arms, rewards, contexts, 800)\n",
    "print('UCB average reward', np.mean(results_UCB))"
   ]
  },
  {
   "cell_type": "markdown",
   "metadata": {},
   "source": [
    "## 3. Contextual Bandits"
   ]
  },
  {
   "cell_type": "code",
   "execution_count": 8,
   "metadata": {},
   "outputs": [],
   "source": [
    "class LinUCB(MAB):\n",
    "    \"\"\"\n",
    "    Contextual multi-armed bandit (LinUCB)\n",
    "\n",
    "    Arguments\n",
    "    =========\n",
    "    narms : int\n",
    "        number of arms\n",
    "\n",
    "    ndims : int\n",
    "        number of dimensions for each arm's context\n",
    "\n",
    "    alpha : float\n",
    "        positive real explore-exploit parameter\n",
    "    \"\"\"\n",
    "    \n",
    "    def __init__(self, narms, ndims, alpha):\n",
    "        self.narms = narms\n",
    "        self.ndims = ndims\n",
    "        self.alpha = alpha\n",
    "\n",
    "        self.arm_matrix = np.full((narms, ndims, ndims), np.identity(ndims))\n",
    "        self.qvalue = np.full((narms, ndims), np.full(ndims, 0))\n",
    "\n",
    "    def play(self, tround, context):\n",
    "        pvalue = np.full(self.narms, 0.0)\n",
    "        for i in range(self.narms):\n",
    "            inversed_arm = inv(self.arm_matrix[i])\n",
    "            theta = inversed_arm.dot(self.qvalue[i])\n",
    "            rewards = theta.dot(context[i]) + self.alpha * np.sqrt(context[i].dot(inversed_arm).dot(context[i]))\n",
    "            pvalue[i] = rewards\n",
    "\n",
    "        candidates = np.argwhere(pvalue == np.amax(pvalue)).flatten().tolist()\n",
    "        if len(candidates) == 1:\n",
    "            return candidates[0]\n",
    "        else:\n",
    "            # print('random')\n",
    "            return np.random.choice(candidates)\n",
    "\n",
    "    def update(self, arm, reward, context):\n",
    "        self.arm_matrix[arm] += np.outer(context[arm], context[arm])\n",
    "        self.qvalue[arm] += reward * context[arm]\n",
    "        return"
   ]
  },
  {
   "cell_type": "code",
   "execution_count": 9,
   "metadata": {},
   "outputs": [
    {
     "name": "stdout",
     "output_type": "stream",
     "text": [
      "800  out of total  7901\n",
      "LinUCB average reward 0.53\n"
     ]
    }
   ],
   "source": [
    "mab = LinUCB(10, 10, 1.0)\n",
    "results_LinUCB = offlineEvaluate(mab, arms, rewards, contexts, 800)\n",
    "print('LinUCB average reward', np.mean(results_LinUCB))"
   ]
  },
  {
   "cell_type": "markdown",
   "metadata": {},
   "source": [
    "## 4. Evaluation\n",
    "### 4.A."
   ]
  },
  {
   "cell_type": "code",
   "execution_count": 10,
   "metadata": {},
   "outputs": [
    {
     "data": {
      "image/png": "[encoded data removed]",
      "text/plain": [
       "<Figure size 432x288 with 1 Axes>"
      ]
     },
     "metadata": {},
     "output_type": "display_data"
    }
   ],
   "source": [
    "def get_y(results, rounds):\n",
    "    cumulative_results = np.cumsum(results)\n",
    "    return cumulative_results.astype(float)/(np.arange(rounds)+1)\n",
    "\n",
    "\n",
    "EpsGreedy_y = get_y(results_EpsGreedy, 800)\n",
    "UCB_y = get_y(results_UCB, 800)\n",
    "LinUCB_y = get_y(results_LinUCB, 800)\n",
    "\n",
    "x_axis = np.arange(800)\n",
    "plt.plot(x_axis, EpsGreedy_y, label='EpsGreedy')\n",
    "plt.plot(x_axis, UCB_y, label='UCB')\n",
    "plt.plot(x_axis, LinUCB_y, label='LinUCB')\n",
    "plt.legend(loc='upper left')\n",
    "plt.show()"
   ]
  },
  {
   "cell_type": "markdown",
   "metadata": {},
   "source": [
    "### 4.B."
   ]
  },
  {
   "cell_type": "code",
   "execution_count": 11,
   "metadata": {},
   "outputs": [
    {
     "name": "stdout",
     "output_type": "stream",
     "text": [
      "800  out of total  7963\n",
      "0.64375\n",
      "800  out of total  7761\n",
      "0.70875\n",
      "800  out of total  7759\n",
      "0.6775\n",
      "800  out of total  7706\n",
      "0.64375\n",
      "800  out of total  7661\n",
      "0.635\n",
      "800  out of total  7775\n",
      "0.6225\n",
      "800  out of total  7863\n",
      "0.6075\n",
      "800  out of total  7778\n",
      "0.57625\n",
      "800  out of total  7844\n",
      "0.55875\n",
      "800  out of total  7968\n",
      "0.53625\n",
      "800  out of total  7901\n",
      "0.53\n",
      "800  out of total  7801\n",
      "0.49875\n",
      "800  out of total  7649\n",
      "0.4775\n",
      "800  out of total  7729\n",
      "0.46\n",
      "800  out of total  7830\n",
      "0.4475\n",
      "optimal alpha 0.1\n"
     ]
    }
   ],
   "source": [
    "def grid_search(arms, rewards, contexts, low, high):\n",
    "    results = []\n",
    "    for alpha in np.arange(low, high, 0.1):\n",
    "        mab = LinUCB(10, 10, alpha)\n",
    "        avg = np.mean(offlineEvaluate(mab, arms, rewards, contexts, 800))\n",
    "        print(avg)\n",
    "        results.append((alpha, avg))\n",
    "\n",
    "    results.sort(key=lambda tup: tup[1], reverse=True)\n",
    "    return results[0]\n",
    "\n",
    "print('optimal alpha', grid_search(arms, rewards, contexts, 0, 1.5)[0])"
   ]
  },
  {
   "cell_type": "markdown",
   "metadata": {},
   "source": [
    "## 5. KernelUCB"
   ]
  },
  {
   "cell_type": "code",
   "execution_count": null,
   "metadata": {},
   "outputs": [],
   "source": [
    "# Do not edit. Special import for this section.\n",
    "from sklearn.metrics.pairwise import rbf_kernel"
   ]
  },
  {
   "cell_type": "code",
   "execution_count": null,
   "metadata": {},
   "outputs": [],
   "source": [
    "class KernelUCB(MAB):\n",
    "    \"\"\"\n",
    "    Kernelised contextual multi-armed bandit (Kernelised LinUCB)\n",
    "    \n",
    "    Arguments\n",
    "    =========\n",
    "    narms : int\n",
    "        number of arms\n",
    "\n",
    "    ndims : int\n",
    "        number of dimensions for each arm's context\n",
    "\n",
    "    gamma : float\n",
    "        positive real explore-exploit parameter\n",
    "    \n",
    "    eta : float\n",
    "        positive real explore-exploit parameter\n",
    "    \n",
    "    kern : callable\n",
    "        a kernel function from sklearn.metrics.pairwise\n",
    "    \"\"\"\n",
    "    def __init__(self, narms, ndims, gamma, eta, kern):\n",
    "        self.narms = narms\n",
    "        self.ndims = ndims\n",
    "        self.gamma = gamma\n",
    "        self.eta = eta\n",
    "        self.kern = kern\n",
    "        self.u_value = np.full(narms, 0.0)\n",
    "        self.u_value[0] = 1\n",
    "        self.y_value = list()\n",
    "        self.x_context = []\n",
    "        self.prev_K = None\n",
    "\n",
    "\n",
    "    def play(self, tround, context):\n",
    "        if tround == 1:\n",
    "            return 1\n",
    "        else:\n",
    "            candidates = np.argwhere(self.u_value == np.amax(self.u_value)).flatten().tolist()\n",
    "            return np.random.choice(candidates)\n",
    "\n",
    "\n",
    "    def update(self, arm, reward, context):\n",
    "        self.x_context.append(context[arm])\n",
    "        self.y_value.append(reward)\n",
    "        k_xt_t = list()\n",
    "        for i in range(len(self.y_value)):\n",
    "            k_xt_t.append(self.kern([context[arm]], [self.x_context[i]])[0][0])\n",
    "        if len(self.y_value) == 1:\n",
    "            K_matrix = inv(self.kern([context[arm]], [context[arm]]) + self.gamma)\n",
    "            print('kmatrix',K_matrix)\n",
    "        else:\n",
    "            b = np.array(k_xt_t[:-1])\n",
    "            K_22 = inv(self.kern([context[arm]], [context[arm]])[0][0] + self.gamma - b.T.dot(self.prev_K).dot(b))\n",
    "            K_11 = self.prev_K + K_22.dot(self.prev_K).dot(b).dot(b.T).dot(self.prev_K)\n",
    "            K_12 = -(K_22.dot(self.prev_K).dot(b))\n",
    "            K_21 = -(K_22.dot(b.T).dot(self.prev_K))\n",
    "            K_matrix = np.block([K_11, K_12],[K_21, K_22])\n",
    "\n",
    "        for i in range(self.narms):\n",
    "            k_xn_t = np.array([self.kern([context[i]], [context[j]])[0][0] for j in range(self.narms)])\n",
    "            print('shape', np.shape(k_xn_t.T.dot(K_matrix[0]).dot(k_xn_t)))\n",
    "            theta = np.sqrt(self.kern([context[i]], [context[i]])[0][0] - k_xn_t.T.dot(K_matrix[0]).dot(k_xn_t))\n",
    "            self.u_value[i] = k_xn_t.T.dot(K_matrix).dot(reward) + (self.eta * np.sqrt(self.gamma)) * theta\n",
    "\n",
    "        self.prev_K = K_matrix\n",
    "\n",
    "\n",
    "        pass\n",
    "\n",
    "\n",
    "mab = KernelUCB(10, 10, 1, 1, rbf_kernel)\n",
    "result_KernelUCB = offlineEvaluate(mab, arms, rewards, contexts, 800)\n",
    "        \n",
    "    "
   ]
  }
 ],
 "metadata": {
  "kernelspec": {
   "display_name": "Python 3",
   "language": "python",
   "name": "python3"
  },
  "language_info": {
   "codemirror_mode": {
    "name": "ipython",
    "version": 3
   },
   "file_extension": ".py",
   "mimetype": "text/x-python",
   "name": "python",
   "nbconvert_exporter": "python",
   "pygments_lexer": "ipython3",
   "version": "3.6.1"
  }
 },
 "nbformat": 4,
 "nbformat_minor": 2
}
